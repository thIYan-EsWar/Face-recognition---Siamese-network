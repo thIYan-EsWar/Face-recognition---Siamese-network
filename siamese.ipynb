{
 "cells": [
  {
   "cell_type": "code",
   "execution_count": 1,
   "metadata": {},
   "outputs": [],
   "source": [
    "import os"
   ]
  },
  {
   "cell_type": "code",
   "execution_count": 2,
   "metadata": {},
   "outputs": [],
   "source": [
    "from tensorflow.keras.models import Model\n",
    "from tensorflow.keras.layers import Layer, Conv2D, Dense, MaxPooling2D, Input, Flatten \n",
    "import tensorflow as tf"
   ]
  },
  {
   "cell_type": "code",
   "execution_count": 3,
   "metadata": {},
   "outputs": [],
   "source": [
    "import cv2\n",
    "import numpy as np"
   ]
  },
  {
   "cell_type": "code",
   "execution_count": 4,
   "metadata": {},
   "outputs": [],
   "source": [
    "def normalize_data(file_path):\n",
    "    '''\n",
    "    To reduce the domain of each features in the image\n",
    "    from 0->255(tf.uint8) to 0->1(tf.float)\n",
    "    '''\n",
    "    # byte image\n",
    "    byte_image = tf.io.read_file(file_path)\n",
    "\n",
    "    # numpy image\n",
    "    image = tf.io.decode_jpeg(byte_image)\n",
    "\n",
    "    # Feature normalize data\n",
    "    image = image / 255\n",
    "\n",
    "    return image"
   ]
  },
  {
   "cell_type": "code",
   "execution_count": 5,
   "metadata": {},
   "outputs": [],
   "source": [
    "# File path definition\n",
    "# Note: For multiclass classification new variables\n",
    "# for respective file path must be created\n",
    "CURRENT_DIRECTORY_ABS_PATH = os.path.abspath(os.getcwd())\n",
    "LABEL1 = r\"Classes\\Thiyaneswar\"\n",
    "LABEL1_PATH = os.path.join(CURRENT_DIRECTORY_ABS_PATH, LABEL1)\n",
    "ANCHOR1_PATH = os.path.join(CURRENT_DIRECTORY_ABS_PATH, r\"Anchor\\Thiyaneswar\")\n",
    "NEGATIVE_PATH = os.path.join(CURRENT_DIRECTORY_ABS_PATH, \"Negatives\")"
   ]
  },
  {
   "cell_type": "code",
   "execution_count": 6,
   "metadata": {},
   "outputs": [],
   "source": [
    "# Load dataset from directory\n",
    "anchor1 = tf.data.Dataset.list_files(ANCHOR1_PATH + r\"\\*.jpg\").take(700)\n",
    "positive1 = tf.data.Dataset.list_files(LABEL1_PATH + r\"\\*.jpg\").take(700)\n",
    "negative = tf.data.Dataset.list_files(NEGATIVE_PATH + r\"\\*.jpg\").take(700)"
   ]
  },
  {
   "cell_type": "code",
   "execution_count": 7,
   "metadata": {},
   "outputs": [],
   "source": [
    "# Labelling data\n",
    "positive_labels = tf.data.Dataset.from_tensor_slices(tf.ones(len(anchor1)))\n",
    "negative_labels = tf.data.Dataset.from_tensor_slices(tf.zeros(len(negative)))\n",
    "\n",
    "positives = tf.data.Dataset.zip((anchor1, positive1, positive_labels))\n",
    "negatives = tf.data.Dataset.zip((anchor1, negative, negative_labels))\n",
    "data_set = positives.concatenate(negatives)"
   ]
  },
  {
   "cell_type": "code",
   "execution_count": 8,
   "metadata": {},
   "outputs": [],
   "source": [
    "# Preprocess data\n",
    "preprocess_data = lambda image_input, image_validate, label: (normalize_data(image_input), normalize_data(image_validate), label)\n",
    "\n",
    "data_set = data_set.map(preprocess_data)\n",
    "data_set = data_set.cache()\n",
    "data_set = data_set.shuffle(buffer_size = 2048)"
   ]
  },
  {
   "cell_type": "code",
   "execution_count": 9,
   "metadata": {},
   "outputs": [
    {
     "data": {
      "text/plain": [
       "(105, 105, 3)"
      ]
     },
     "execution_count": 9,
     "metadata": {},
     "output_type": "execute_result"
    }
   ],
   "source": [
    "data = data_set.as_numpy_iterator()\n",
    "data.next()[0].shape"
   ]
  },
  {
   "cell_type": "code",
   "execution_count": 10,
   "metadata": {},
   "outputs": [],
   "source": [
    "BATCH = 4\n",
    "PRE_FETCH = 2"
   ]
  },
  {
   "cell_type": "code",
   "execution_count": 11,
   "metadata": {},
   "outputs": [],
   "source": [
    "# Train data\n",
    "TRAINING_PERCENTAGE = 0.8\n",
    "TRAINING_SAMPLE_SIZE = int(len(data_set) * TRAINING_PERCENTAGE)\n",
    "train_data = data_set.take(TRAINING_SAMPLE_SIZE)\n",
    "train_data = train_data.batch(BATCH)\n",
    "train_data = train_data.prefetch(PRE_FETCH)\n",
    "\n",
    "# Test data\n",
    "TESTING_PERCENTAGE = 0.2\n",
    "test_data = data_set.skip(TRAINING_SAMPLE_SIZE)\n",
    "test_data = test_data.batch(BATCH)\n",
    "test_data = test_data.prefetch(PRE_FETCH)"
   ]
  },
  {
   "cell_type": "code",
   "execution_count": 14,
   "metadata": {},
   "outputs": [],
   "source": [
    "def model_encoding():\n",
    "    input_layer = Input(shape = (105, 105, 3), name = 'input_image')\n",
    "\n",
    "    conv_layer_1 = Conv2D(64, (10, 10), activation = 'relu')(input_layer)\n",
    "    max_pooling_1 = MaxPooling2D(64, (2, 2), padding = 'same')(conv_layer_1) \n",
    "\n",
    "    conv_layer_2 = Conv2D(128, (7, 7), activation = 'relu')(max_pooling_1)\n",
    "    max_pooling_2 = MaxPooling2D(64, (2, 2), padding = 'same')(conv_layer_2) \n",
    "\n",
    "    conv_layer_3 = Conv2D(128, (4, 4), activation = 'relu')(max_pooling_2)\n",
    "    max_pooling_3 = MaxPooling2D(64, (2, 2), padding = 'same')(conv_layer_3) \n",
    "\n",
    "    conv_layer_4 = Conv2D(256, (4, 4), activation = 'relu')(input_layer)\n",
    "    flatten_layer = Flatten()(conv_layer_4)\n",
    "    dense_layer = Dense(4096, activation = 'sigmoid')(flatten_layer)\n",
    "\n",
    "    return Model(inputs = [input_layer], outputs = [dense_layer], name = 'encoding') "
   ]
  },
  {
   "cell_type": "code",
   "execution_count": null,
   "metadata": {},
   "outputs": [],
   "source": [
    "# Encoding\n",
    "# encoding = model_encoding()\n",
    "# encoding.summary()"
   ]
  },
  {
   "cell_type": "code",
   "execution_count": 12,
   "metadata": {},
   "outputs": [],
   "source": [
    "class L1Distance(tf.keras.layers.Layer):\n",
    "    # Custom distance class to find the distance between\n",
    "    # validation and input images\n",
    "    def __init__(self, *args, **kwargs):\n",
    "        super().__init__()\n",
    "\n",
    "    def call(self, encoded_input_image, encoded_validation_image):\n",
    "        return tf.math.abs(encoded_input_image - encoded_validation_image)"
   ]
  },
  {
   "cell_type": "code",
   "execution_count": 17,
   "metadata": {},
   "outputs": [
    {
     "name": "stdout",
     "output_type": "stream",
     "text": [
      "ERROR! Session/line number was not unique in database. History logging moved to new session 29\n"
     ]
    }
   ],
   "source": [
    "def create_siamese_model():\n",
    "    input_image = Input(name = 'input_image', shape = (105, 105, 3))\n",
    "\n",
    "    validation_image = Input(name = 'validation_image', shape = (105, 105, 3))\n",
    "\n",
    "    siamese_layer = L1Distance()\n",
    "    siamese_layer._name = 'distance'\n",
    "\n",
    "    distance = siamese_layer(encoding(input_image), encoding(validation_image))\n",
    "\n",
    "    classifier = Dense(1, activation = 'sigmoid')(distance)\n",
    "\n",
    "    return Model(inputs = [input_image, validation_image], outputs = classifier, name = 'siamese_network')"
   ]
  },
  {
   "cell_type": "code",
   "execution_count": null,
   "metadata": {},
   "outputs": [],
   "source": [
    "siamese_model = create_siamese_model()"
   ]
  },
  {
   "cell_type": "code",
   "execution_count": null,
   "metadata": {},
   "outputs": [],
   "source": [
    "siamese_model.summary()"
   ]
  },
  {
   "cell_type": "code",
   "execution_count": null,
   "metadata": {},
   "outputs": [],
   "source": [
    "loss_function = tf.losses.BinaryCrossentropy()\n",
    "optimizer = tf.keras.optimizers.Adam(1e-5)"
   ]
  },
  {
   "cell_type": "code",
   "execution_count": null,
   "metadata": {},
   "outputs": [],
   "source": [
    "checkpoint_directory = './training_checkpoints'\n",
    "checkpoint_prefix = os.path.join(checkpoint_directory, 'ckpt')\n",
    "checkpoint = tf.train.Checkpoint(opt=optimizer, siamese_model=siamese_model)"
   ]
  },
  {
   "cell_type": "code",
   "execution_count": null,
   "metadata": {},
   "outputs": [],
   "source": [
    "@tf.function\n",
    "def step(batch):\n",
    "\n",
    "    with tf.GradientTape() as tape:\n",
    "        X = batch[: 2]\n",
    "        y = batch[2]\n",
    "\n",
    "        y_prediction = siamese_model(X, training = True)\n",
    "        loss = loss_function(y, y_prediction)\n",
    "\n",
    "    gradient = tape.gradient(loss, siamese_model.trainable_variables)\n",
    "\n",
    "    optimizer.apply_gradients(zip(gradient, siamese_model.trainable_variables))\n",
    "\n",
    "    return loss"
   ]
  },
  {
   "cell_type": "code",
   "execution_count": 13,
   "metadata": {},
   "outputs": [],
   "source": [
    "from tensorflow.keras.metrics import Precision, Recall"
   ]
  },
  {
   "cell_type": "code",
   "execution_count": null,
   "metadata": {},
   "outputs": [],
   "source": [
    "def training(data, num_epochs):\n",
    "    for num_epoch in range(1, num_epochs + 1, 1):\n",
    "        print(f'Epoch competed {num_epoch}/{num_epochs}')\n",
    "\n",
    "        progress_bar = tf.keras.utils.Progbar(len(data))\n",
    "\n",
    "        recall = Recall()\n",
    "        precision = Precision()\n",
    "\n",
    "        for index, batch in enumerate(data):\n",
    "\n",
    "            loss = step(batch)\n",
    "            y_prediction = siamese_model.predict(batch[: 2])\n",
    "            recall.update_state(batch[2], y_prediction)\n",
    "            precision.update_state(batch[2], y_prediction)\n",
    "            progress_bar.update(index + 1)\n",
    "\n",
    "        if num_epochs % 4 == 0:\n",
    "            checkpoint.save(file_prefix=checkpoint_prefix)"
   ]
  },
  {
   "cell_type": "code",
   "execution_count": null,
   "metadata": {},
   "outputs": [],
   "source": [
    "num_epochs = 20"
   ]
  },
  {
   "cell_type": "code",
   "execution_count": null,
   "metadata": {},
   "outputs": [],
   "source": [
    "# training(train_data, num_epochs=num_epochs)"
   ]
  },
  {
   "cell_type": "code",
   "execution_count": 25,
   "metadata": {},
   "outputs": [],
   "source": [
    "test_input, test_validate, label = test_data.as_numpy_iterator().next() "
   ]
  },
  {
   "cell_type": "code",
   "execution_count": 15,
   "metadata": {},
   "outputs": [
    {
     "name": "stdout",
     "output_type": "stream",
     "text": [
      "WARNING:tensorflow:No training configuration found in the save file, so the model was *not* compiled. Compile it manually.\n"
     ]
    }
   ],
   "source": [
    "model = tf.keras.models.load_model('face.h5', custom_objects = {'L1Distance': L1Distance})"
   ]
  },
  {
   "cell_type": "code",
   "execution_count": 26,
   "metadata": {},
   "outputs": [],
   "source": [
    "prediction = model.predict([test_input, test_validate])"
   ]
  },
  {
   "cell_type": "code",
   "execution_count": 17,
   "metadata": {},
   "outputs": [
    {
     "name": "stdout",
     "output_type": "stream",
     "text": [
      "Model: \"siamese_network\"\n",
      "__________________________________________________________________________________________________\n",
      " Layer (type)                   Output Shape         Param #     Connected to                     \n",
      "==================================================================================================\n",
      " input_image (InputLayer)       [(None, 105, 105, 3  0           []                               \n",
      "                                )]                                                                \n",
      "                                                                                                  \n",
      " validation_image (InputLayer)  [(None, 105, 105, 3  0           []                               \n",
      "                                )]                                                                \n",
      "                                                                                                  \n",
      " encoding (Functional)          (None, 4096)         38960448    ['input_image[0][0]',            \n",
      "                                                                  'validation_image[0][0]']       \n",
      "                                                                                                  \n",
      " l1_distance (L1Distance)       (None, 4096)         0           ['encoding[0][0]',               \n",
      "                                                                  'encoding[1][0]']               \n",
      "                                                                                                  \n",
      " dense_2 (Dense)                (None, 1)            4097        ['l1_distance[0][0]']            \n",
      "                                                                                                  \n",
      "==================================================================================================\n",
      "Total params: 38,964,545\n",
      "Trainable params: 38,964,545\n",
      "Non-trainable params: 0\n",
      "__________________________________________________________________________________________________\n"
     ]
    }
   ],
   "source": [
    "model.summary()"
   ]
  },
  {
   "cell_type": "code",
   "execution_count": 27,
   "metadata": {},
   "outputs": [
    {
     "data": {
      "text/plain": [
       "array([[False],\n",
       "       [ True],\n",
       "       [False],\n",
       "       [ True]])"
      ]
     },
     "execution_count": 27,
     "metadata": {},
     "output_type": "execute_result"
    }
   ],
   "source": [
    "prediction > 0.5"
   ]
  },
  {
   "cell_type": "code",
   "execution_count": 19,
   "metadata": {},
   "outputs": [],
   "source": [
    "import matplotlib.pyplot as plt"
   ]
  },
  {
   "cell_type": "code",
   "execution_count": 32,
   "metadata": {},
   "outputs": [
    {
     "data": {
      "image/png": "[encoded data removed]",
      "text/plain": [
       "<Figure size 432x288 with 2 Axes>"
      ]
     },
     "metadata": {
      "needs_background": "light"
     },
     "output_type": "display_data"
    }
   ],
   "source": [
    "plt.subplot(1, 2, 1)\n",
    "plt.imshow(test_input[3])\n",
    "\n",
    "plt.subplot(1, 2, 2)\n",
    "plt.imshow(test_validate[3])\n",
    "\n",
    "plt.show()"
   ]
  },
  {
   "cell_type": "code",
   "execution_count": 24,
   "metadata": {},
   "outputs": [
    {
     "data": {
      "text/plain": [
       "(4, 105, 105, 3)"
      ]
     },
     "execution_count": 24,
     "metadata": {},
     "output_type": "execute_result"
    }
   ],
   "source": [
    "test_input.shape"
   ]
  },
  {
   "cell_type": "code",
   "execution_count": null,
   "metadata": {},
   "outputs": [],
   "source": []
  }
 ],
 "metadata": {
  "interpreter": {
   "hash": "1baa965d5efe3ac65b79dfc60c0d706280b1da80fedb7760faf2759126c4f253"
  },
  "kernelspec": {
   "display_name": "Python 3 (ipykernel)",
   "language": "python",
   "name": "python3"
  },
  "language_info": {
   "codemirror_mode": {
    "name": "ipython",
    "version": 3
   },
   "file_extension": ".py",
   "mimetype": "text/x-python",
   "name": "python",
   "nbconvert_exporter": "python",
   "pygments_lexer": "ipython3",
   "version": "3.8.10"
  }
 },
 "nbformat": 4,
 "nbformat_minor": 2
}
